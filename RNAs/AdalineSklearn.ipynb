{
  "nbformat": 4,
  "nbformat_minor": 0,
  "metadata": {
    "colab": {
      "name": "AdalineSklearn.ipynb",
      "provenance": [],
      "collapsed_sections": [],
      "include_colab_link": true
    },
    "kernelspec": {
      "name": "python3",
      "display_name": "Python 3"
    },
    "language_info": {
      "name": "python"
    }
  },
  "cells": [
    {
      "cell_type": "markdown",
      "metadata": {
        "id": "view-in-github",
        "colab_type": "text"
      },
      "source": [
        "<a href=\"https://colab.research.google.com/github/XxStyleS2xX/MachineLearning/blob/main/RNAs/AdalineSklearn.ipynb\" target=\"_parent\"><img src=\"https://colab.research.google.com/assets/colab-badge.svg\" alt=\"Open In Colab\"/></a>"
      ]
    },
    {
      "cell_type": "code",
      "metadata": {
        "id": "pZyjSMpaKU_O"
      },
      "source": [
        "import matplotlib.pyplot as plt\n",
        "import numpy as np\n",
        "import pandas as pd\n",
        "from sklearn.datasets import load_iris\n",
        "from sklearn.linear_model import SGDClassifier as Adaline\n",
        "from sklearn.model_selection import train_test_split"
      ],
      "execution_count": null,
      "outputs": []
    },
    {
      "cell_type": "markdown",
      "metadata": {
        "id": "y00IszEkwaVm"
      },
      "source": [
        "\n",
        "\n",
        "> Preparación de los datos de entrenamiento \n",
        "\n"
      ]
    },
    {
      "cell_type": "code",
      "metadata": {
        "id": "y5eeslsRVadD"
      },
      "source": [
        "df = pd.read_csv('HTRU_2.csv', header=None, encoding = 'utf-8')\n",
        "\n"
      ],
      "execution_count": null,
      "outputs": []
    },
    {
      "cell_type": "code",
      "metadata": {
        "id": "R43CpNv-NcG5"
      },
      "source": [
        "X_train, X_test, y_train, y_test = train_test_split(np.array(df.iloc[:,:8]), np.array(df.iloc[:,8]), test_size=0.33, random_state=42)\n",
        "\n",
        "X_train=X_train[:,[3,6]]\n",
        "X_test=X_test[:,[3,6]]\n"
      ],
      "execution_count": null,
      "outputs": []
    },
    {
      "cell_type": "code",
      "metadata": {
        "id": "TSA5y-puVoET"
      },
      "source": [
        "\n",
        "\n",
        "X, y = load_iris(return_X_y=True)\n",
        "\n",
        "X_std = np.copy(X)\n",
        "X_std[:, 0] = (X[:, 0] - X[:, 0].mean()) / X[:, 0].std()\n",
        "X_std[:, 1] = (X[:, 1] - X[:, 1].mean()) / X[:, 1].std()\n",
        "X_std[:, 2] = (X[:, 2] - X[:, 2].mean()) / X[:, 2].std()\n",
        "X_std=X_std[:,[0,2]]\n",
        "X_train_iris, X_test_iris, y_train_iris, y_test_iris = train_test_split(X_std, y, test_size=0.33, random_state=42)\n",
        "\n"
      ],
      "execution_count": null,
      "outputs": []
    },
    {
      "cell_type": "markdown",
      "metadata": {
        "id": "-RyEvQDU2Qq8"
      },
      "source": [
        "\n",
        "\n",
        "> Graficar datos\n",
        "\n"
      ]
    },
    {
      "cell_type": "code",
      "metadata": {
        "id": "YmyTWRXAEm8G"
      },
      "source": [
        "from matplotlib.colors import ListedColormap\n",
        "def plot_decision_regions(X, y, classifier, resolution=0.02):\n",
        "   # setup marker generator and color map\n",
        "   markers = ('s', 'x', 'o', '^', 'v')\n",
        "   colors = ('red', 'blue', 'lightgreen', 'gray', 'cyan')\n",
        "   cmap = ListedColormap(colors[:len(np.unique(y))])\n",
        "\n",
        "   # plot the decision surface\n",
        "   x1_min, x1_max = X[:,  0].min() - 1, X[:, 0].max() + 1\n",
        "   x2_min, x2_max = X[:, 1].min() - 1, X[:, 1].max() + 1\n",
        "   xx1, xx2 = np.meshgrid(np.arange(x1_min, x1_max, resolution),\n",
        "   np.arange(x2_min, x2_max, resolution))\n",
        "   Z = classifier.predict(np.array([xx1.ravel(), xx2.ravel()]).T)\n",
        "   Z = Z.reshape(xx1.shape)\n",
        "   plt.contourf(xx1, xx2, Z, alpha=0.4, cmap=cmap)\n",
        "   plt.xlim(xx1.min(), xx1.max())\n",
        "   plt.ylim(xx2.min(), xx2.max())\n",
        "\n",
        "   # plot class samples\n",
        "   for idx, cl in enumerate(np.unique(y)):\n",
        "      plt.scatter(x=X[y == cl, 0], y=X[y == cl, 1],\n",
        "      alpha=0.8, c=cmap(idx),\n",
        "      marker=markers[idx], label=cl)\n"
      ],
      "execution_count": null,
      "outputs": []
    },
    {
      "cell_type": "markdown",
      "metadata": {
        "id": "iRMS1aAr66ya"
      },
      "source": [
        "Entrenando el perceptrón con la base de datos AND"
      ]
    },
    {
      "cell_type": "code",
      "metadata": {
        "id": "sSCmXZ1v-Fpp",
        "colab": {
          "base_uri": "https://localhost:8080/",
          "height": 337
        },
        "outputId": "988e438c-79c2-4cd7-f573-6f54c9016598"
      },
      "source": [
        "model1 = Adaline(random_state=1, max_iter=1000,eta0=0.065)\n",
        "\n",
        "model1.fit(X_train,y_train)\n",
        "print(\"Score HTRU2: \", model1.score(X_test,y_test))\n",
        "plot_decision_regions(X_test,y_test,model1)"
      ],
      "execution_count": null,
      "outputs": [
        {
          "output_type": "stream",
          "name": "stdout",
          "text": [
            "Score HTRU2:  0.9713898764178094\n"
          ]
        },
        {
          "output_type": "stream",
          "name": "stderr",
          "text": [
            "*c* argument looks like a single numeric RGB or RGBA sequence, which should be avoided as value-mapping will have precedence in case its length matches with *x* & *y*.  Please use the *color* keyword-argument or provide a 2-D array with a single row if you intend to specify the same RGB or RGBA value for all points.\n",
            "*c* argument looks like a single numeric RGB or RGBA sequence, which should be avoided as value-mapping will have precedence in case its length matches with *x* & *y*.  Please use the *color* keyword-argument or provide a 2-D array with a single row if you intend to specify the same RGB or RGBA value for all points.\n"
          ]
        },
        {
          "output_type": "display_data",
          "data": {
            "image/png": "[encoded data removed]",
            "text/plain": [
              "<Figure size 432x288 with 1 Axes>"
            ]
          },
          "metadata": {
            "needs_background": "light"
          }
        }
      ]
    },
    {
      "cell_type": "code",
      "metadata": {
        "colab": {
          "base_uri": "https://localhost:8080/",
          "height": 353
        },
        "id": "1HDf6mZk_u1r",
        "outputId": "5aa2f8b0-94ca-4a03-a9ca-432db80be1fb"
      },
      "source": [
        "model = Adaline(random_state=1, max_iter=1000,eta0=0.01)\n",
        "model.fit(X_train_iris, y_train_iris)\n",
        "print(\"Score:\",model.score(X_test_iris, y_test_iris))\n",
        "plot_decision_regions(X_test_iris, y_test_iris,model)"
      ],
      "execution_count": null,
      "outputs": [
        {
          "output_type": "stream",
          "name": "stderr",
          "text": [
            "*c* argument looks like a single numeric RGB or RGBA sequence, which should be avoided as value-mapping will have precedence in case its length matches with *x* & *y*.  Please use the *color* keyword-argument or provide a 2-D array with a single row if you intend to specify the same RGB or RGBA value for all points.\n",
            "*c* argument looks like a single numeric RGB or RGBA sequence, which should be avoided as value-mapping will have precedence in case its length matches with *x* & *y*.  Please use the *color* keyword-argument or provide a 2-D array with a single row if you intend to specify the same RGB or RGBA value for all points.\n",
            "*c* argument looks like a single numeric RGB or RGBA sequence, which should be avoided as value-mapping will have precedence in case its length matches with *x* & *y*.  Please use the *color* keyword-argument or provide a 2-D array with a single row if you intend to specify the same RGB or RGBA value for all points.\n"
          ]
        },
        {
          "output_type": "stream",
          "name": "stdout",
          "text": [
            "Score: 0.98\n"
          ]
        },
        {
          "output_type": "display_data",
          "data": {
            "image/png": "[encoded data removed]",
            "text/plain": [
              "<Figure size 432x288 with 1 Axes>"
            ]
          },
          "metadata": {
            "needs_background": "light"
          }
        }
      ]
    }
  ]
}